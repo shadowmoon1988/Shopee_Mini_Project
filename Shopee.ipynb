{
 "cells": [
  {
   "cell_type": "markdown",
   "metadata": {
    "nbpresent": {
     "id": "45206cd9-c813-4a8f-b618-bfc67ec12dfc"
    }
   },
   "source": [
    "# Shopee Mini Project"
   ]
  },
  {
   "cell_type": "markdown",
   "metadata": {
    "nbpresent": {
     "id": "013a3d5e-aaef-49e5-acd6-49f93a3f8fe7"
    }
   },
   "source": [
    "## Libaray and Data loading"
   ]
  },
  {
   "cell_type": "code",
   "execution_count": 1,
   "metadata": {
    "collapsed": true,
    "nbpresent": {
     "id": "6f30bf75-4305-4620-bcb4-7cf27b590971"
    }
   },
   "outputs": [],
   "source": [
    "import pandas as pd\n",
    "import numpy as np\n",
    "import time\n",
    "from sklearn.model_selection import train_test_split\n",
    "from sklearn import preprocessing\n",
    "from sklearn.ensemble import RandomForestRegressor\n",
    "from sklearn.ensemble import RandomForestClassifier\n",
    "from sklearn.pipeline import make_pipeline\n",
    "from sklearn.model_selection import GridSearchCV\n",
    "from sklearn.externals import joblib\n",
    "np.random.seed(0)"
   ]
  },
  {
   "cell_type": "code",
   "execution_count": 2,
   "metadata": {
    "collapsed": false,
    "nbpresent": {
     "id": "e3f9104f-8f7c-43b9-9e24-b7f370c9257a"
    }
   },
   "outputs": [],
   "source": [
    "#import train and predict data\n",
    "data = pd.read_csv(\"D:/Shopee/reactivation_data/training.csv\")\n",
    "test_data = pd.read_csv(\"D:/Shopee/reactivation_data/predict.csv\")"
   ]
  },
  {
   "cell_type": "code",
   "execution_count": 3,
   "metadata": {
    "collapsed": true,
    "nbpresent": {
     "id": "ea2bd33a-f9ee-4aa0-a3c2-ad1fce62a5d4"
    }
   },
   "outputs": [],
   "source": [
    "#import other information\n",
    "transactions = pd.read_csv(\"D:/Shopee/reactivation_data/transactions_MY.csv\")\n",
    "users = pd.read_csv(\"D:/Shopee/reactivation_data/user_profiles_MY.csv\")\n",
    "likes =pd.read_csv(\"D:/Shopee/reactivation_data/likes.csv\")\n",
    "voucher_date = pd.read_csv(\"D:/Shopee/reactivation_data/voucher_distribution_active_date.csv\")\n",
    "voucher = pd.read_csv(\"D:/Shopee/reactivation_data/voucher_mechanics.csv\")"
   ]
  },
  {
   "cell_type": "code",
   "execution_count": 4,
   "metadata": {
    "collapsed": true,
    "nbpresent": {
     "id": "f0336dc5-b6ad-442c-bf35-deb5fb89e5fa"
    }
   },
   "outputs": [],
   "source": [
    "#import behavior data\n",
    "log=[]\n",
    "for i in range(31):\n",
    "    log.append(pd.read_csv(\"D:/Shopee/reactivation_data/view_log_\" +str(i) + \".csv\"))\n",
    "    "
   ]
  },
  {
   "cell_type": "code",
   "execution_count": 5,
   "metadata": {
    "collapsed": false,
    "nbpresent": {
     "id": "44e79c43-ec4b-4686-99de-63e2f5fff44e"
    }
   },
   "outputs": [
    {
     "data": {
      "text/plain": [
       "1441175918"
      ]
     },
     "execution_count": 5,
     "metadata": {},
     "output_type": "execute_result"
    }
   ],
   "source": [
    "time.strftime('%Y-%m-%d %H:%M:%S', time.localtime(1487231880))\n",
    "int(time.mktime(time.strptime('2015-09-02 14:38:38', '%Y-%m-%d %H:%M:%S')))"
   ]
  },
  {
   "cell_type": "markdown",
   "metadata": {},
   "source": [
    "## Data Cleaning"
   ]
  },
  {
   "cell_type": "markdown",
   "metadata": {},
   "source": [
    "First we dealing with the target. We could found that if **repurchase_x** is 1, then for any $y>x$ we have **repurchase_y is** 1."
   ]
  },
  {
   "cell_type": "code",
   "execution_count": 6,
   "metadata": {
    "collapsed": false
   },
   "outputs": [],
   "source": [
    "used_y =data[\"used?\"]\n",
    "repurchase_y = data[[\"repurchase_15?\",\"repurchase_30?\",\"repurchase_60?\",\"repurchase_90?\"]]\n",
    "X = data[[\"userid\",\"promotionid_received\",\"voucher_code_received\",\"voucher_received_time\"]]"
   ]
  },
  {
   "cell_type": "code",
   "execution_count": 7,
   "metadata": {
    "collapsed": false
   },
   "outputs": [
    {
     "name": "stdout",
     "output_type": "stream",
     "text": [
      "True\n",
      "True\n",
      "True\n"
     ]
    }
   ],
   "source": [
    "tmp_df = repurchase_y[\"repurchase_90?\"] >= repurchase_y[\"repurchase_60?\"]\n",
    "print(tmp_df.all())\n",
    "tmp_df = repurchase_y[\"repurchase_60?\"] >= repurchase_y[\"repurchase_30?\"]\n",
    "print(tmp_df.all())\n",
    "tmp_df = repurchase_y[\"repurchase_30?\"] >= repurchase_y[\"repurchase_15?\"]\n",
    "print(tmp_df.all())"
   ]
  },
  {
   "cell_type": "code",
   "execution_count": 8,
   "metadata": {
    "collapsed": false
   },
   "outputs": [],
   "source": [
    "repurchase_reform_y = repurchase_y.sum(1)"
   ]
  },
  {
   "cell_type": "markdown",
   "metadata": {},
   "source": [
    "However, there is no necessity to repurchase to used to coupon at least"
   ]
  },
  {
   "cell_type": "code",
   "execution_count": 9,
   "metadata": {
    "collapsed": false
   },
   "outputs": [
    {
     "data": {
      "text/plain": [
       "True"
      ]
     },
     "execution_count": 9,
     "metadata": {},
     "output_type": "execute_result"
    }
   ],
   "source": [
    "tmp_df = ((used_y == 0) & (repurchase_reform_y > 0)) \n",
    "tmp_df.any()"
   ]
  },
  {
   "cell_type": "markdown",
   "metadata": {},
   "source": [
    "Then we uniform the date format for further using."
   ]
  },
  {
   "cell_type": "code",
   "execution_count": 12,
   "metadata": {
    "collapsed": true
   },
   "outputs": [],
   "source": [
    "def epoch2datetime(t):\n",
    "    tt = time.strftime('%Y-%m-%d %H:%M:%S', time.localtime(t))\n",
    "    return pd.to_datetime(tt)"
   ]
  },
  {
   "cell_type": "code",
   "execution_count": 13,
   "metadata": {
    "collapsed": false
   },
   "outputs": [
    {
     "ename": "TypeError",
     "evalue": "an integer is required (got type Timestamp)",
     "output_type": "error",
     "traceback": [
      "\u001b[0;31m---------------------------------------------------------------------------\u001b[0m",
      "\u001b[0;31mTypeError\u001b[0m                                 Traceback (most recent call last)",
      "\u001b[0;32m<ipython-input-13-af107095c954>\u001b[0m in \u001b[0;36m<module>\u001b[0;34m()\u001b[0m\n\u001b[0;32m----> 1\u001b[0;31m \u001b[0mX\u001b[0m\u001b[1;33m.\u001b[0m\u001b[0mloc\u001b[0m\u001b[1;33m[\u001b[0m\u001b[1;33m:\u001b[0m\u001b[1;33m,\u001b[0m\u001b[1;34m\"voucher_received_time\"\u001b[0m\u001b[1;33m]\u001b[0m \u001b[1;33m=\u001b[0m \u001b[0mX\u001b[0m\u001b[1;33m[\u001b[0m\u001b[1;34m\"voucher_received_time\"\u001b[0m\u001b[1;33m]\u001b[0m\u001b[1;33m.\u001b[0m\u001b[0mapply\u001b[0m\u001b[1;33m(\u001b[0m\u001b[0mepoch2datetime\u001b[0m\u001b[1;33m)\u001b[0m\u001b[1;33m\u001b[0m\u001b[0m\n\u001b[0m\u001b[1;32m      2\u001b[0m \u001b[0mtest_data\u001b[0m\u001b[1;33m.\u001b[0m\u001b[0mloc\u001b[0m\u001b[1;33m[\u001b[0m\u001b[1;33m:\u001b[0m\u001b[1;33m,\u001b[0m\u001b[1;34m\"voucher_received_time\"\u001b[0m\u001b[1;33m]\u001b[0m \u001b[1;33m=\u001b[0m \u001b[0mtest_data\u001b[0m\u001b[1;33m[\u001b[0m\u001b[1;34m\"voucher_received_time\"\u001b[0m\u001b[1;33m]\u001b[0m\u001b[1;33m.\u001b[0m\u001b[0mapply\u001b[0m\u001b[1;33m(\u001b[0m\u001b[0mepoch2datetime\u001b[0m\u001b[1;33m)\u001b[0m\u001b[1;33m\u001b[0m\u001b[0m\n\u001b[1;32m      3\u001b[0m \u001b[0mtransactions\u001b[0m\u001b[1;33m.\u001b[0m\u001b[0mloc\u001b[0m\u001b[1;33m[\u001b[0m\u001b[1;33m:\u001b[0m\u001b[1;33m,\u001b[0m\u001b[1;34m\"order_time\"\u001b[0m\u001b[1;33m]\u001b[0m \u001b[1;33m=\u001b[0m \u001b[0mtransactions\u001b[0m\u001b[1;33m[\u001b[0m\u001b[1;34m\"order_time\"\u001b[0m\u001b[1;33m]\u001b[0m\u001b[1;33m.\u001b[0m\u001b[0mapply\u001b[0m\u001b[1;33m(\u001b[0m\u001b[0mepoch2datetime\u001b[0m\u001b[1;33m)\u001b[0m\u001b[1;33m\u001b[0m\u001b[0m\n\u001b[1;32m      4\u001b[0m \u001b[0mvoucher_date\u001b[0m\u001b[1;33m.\u001b[0m\u001b[0mloc\u001b[0m\u001b[1;33m[\u001b[0m\u001b[1;33m:\u001b[0m\u001b[1;33m,\u001b[0m\u001b[1;34m\"voucher_received_time\"\u001b[0m\u001b[1;33m]\u001b[0m \u001b[1;33m=\u001b[0m \u001b[0mvoucher_date\u001b[0m\u001b[1;33m[\u001b[0m\u001b[1;34m\"voucher_received_time\"\u001b[0m\u001b[1;33m]\u001b[0m\u001b[1;33m.\u001b[0m\u001b[0mapply\u001b[0m\u001b[1;33m(\u001b[0m\u001b[0mepoch2datetime\u001b[0m\u001b[1;33m)\u001b[0m\u001b[1;33m\u001b[0m\u001b[0m\n\u001b[1;32m      5\u001b[0m \u001b[0mlikes\u001b[0m\u001b[1;33m.\u001b[0m\u001b[0mloc\u001b[0m\u001b[1;33m[\u001b[0m\u001b[1;33m:\u001b[0m\u001b[1;33m,\u001b[0m\u001b[1;34m\"ctime\"\u001b[0m\u001b[1;33m]\u001b[0m \u001b[1;33m=\u001b[0m \u001b[0mlikes\u001b[0m\u001b[1;33m[\u001b[0m\u001b[1;34m\"ctime\"\u001b[0m\u001b[1;33m]\u001b[0m\u001b[1;33m.\u001b[0m\u001b[0mapply\u001b[0m\u001b[1;33m(\u001b[0m\u001b[0mepoch2datetime\u001b[0m\u001b[1;33m)\u001b[0m\u001b[1;33m\u001b[0m\u001b[0m\n",
      "\u001b[0;32mE:\\Program Files\\Anaconda3\\lib\\site-packages\\pandas\\core\\series.py\u001b[0m in \u001b[0;36mapply\u001b[0;34m(self, func, convert_dtype, args, **kwds)\u001b[0m\n\u001b[1;32m   2218\u001b[0m         \u001b[1;32melse\u001b[0m\u001b[1;33m:\u001b[0m\u001b[1;33m\u001b[0m\u001b[0m\n\u001b[1;32m   2219\u001b[0m             \u001b[0mvalues\u001b[0m \u001b[1;33m=\u001b[0m \u001b[0mself\u001b[0m\u001b[1;33m.\u001b[0m\u001b[0masobject\u001b[0m\u001b[1;33m\u001b[0m\u001b[0m\n\u001b[0;32m-> 2220\u001b[0;31m             \u001b[0mmapped\u001b[0m \u001b[1;33m=\u001b[0m \u001b[0mlib\u001b[0m\u001b[1;33m.\u001b[0m\u001b[0mmap_infer\u001b[0m\u001b[1;33m(\u001b[0m\u001b[0mvalues\u001b[0m\u001b[1;33m,\u001b[0m \u001b[0mf\u001b[0m\u001b[1;33m,\u001b[0m \u001b[0mconvert\u001b[0m\u001b[1;33m=\u001b[0m\u001b[0mconvert_dtype\u001b[0m\u001b[1;33m)\u001b[0m\u001b[1;33m\u001b[0m\u001b[0m\n\u001b[0m\u001b[1;32m   2221\u001b[0m \u001b[1;33m\u001b[0m\u001b[0m\n\u001b[1;32m   2222\u001b[0m         \u001b[1;32mif\u001b[0m \u001b[0mlen\u001b[0m\u001b[1;33m(\u001b[0m\u001b[0mmapped\u001b[0m\u001b[1;33m)\u001b[0m \u001b[1;32mand\u001b[0m \u001b[0misinstance\u001b[0m\u001b[1;33m(\u001b[0m\u001b[0mmapped\u001b[0m\u001b[1;33m[\u001b[0m\u001b[1;36m0\u001b[0m\u001b[1;33m]\u001b[0m\u001b[1;33m,\u001b[0m \u001b[0mSeries\u001b[0m\u001b[1;33m)\u001b[0m\u001b[1;33m:\u001b[0m\u001b[1;33m\u001b[0m\u001b[0m\n",
      "\u001b[0;32mpandas\\src\\inference.pyx\u001b[0m in \u001b[0;36mpandas.lib.map_infer (pandas\\lib.c:62658)\u001b[0;34m()\u001b[0m\n",
      "\u001b[0;32m<ipython-input-12-e5d12db5814e>\u001b[0m in \u001b[0;36mepoch2datetime\u001b[0;34m(t)\u001b[0m\n\u001b[1;32m      1\u001b[0m \u001b[1;32mdef\u001b[0m \u001b[0mepoch2datetime\u001b[0m\u001b[1;33m(\u001b[0m\u001b[0mt\u001b[0m\u001b[1;33m)\u001b[0m\u001b[1;33m:\u001b[0m\u001b[1;33m\u001b[0m\u001b[0m\n\u001b[0;32m----> 2\u001b[0;31m     \u001b[0mtt\u001b[0m \u001b[1;33m=\u001b[0m \u001b[0mtime\u001b[0m\u001b[1;33m.\u001b[0m\u001b[0mstrftime\u001b[0m\u001b[1;33m(\u001b[0m\u001b[1;34m'%Y-%m-%d %H:%M:%S'\u001b[0m\u001b[1;33m,\u001b[0m \u001b[0mtime\u001b[0m\u001b[1;33m.\u001b[0m\u001b[0mlocaltime\u001b[0m\u001b[1;33m(\u001b[0m\u001b[0mt\u001b[0m\u001b[1;33m)\u001b[0m\u001b[1;33m)\u001b[0m\u001b[1;33m\u001b[0m\u001b[0m\n\u001b[0m\u001b[1;32m      3\u001b[0m     \u001b[1;32mreturn\u001b[0m \u001b[0mpd\u001b[0m\u001b[1;33m.\u001b[0m\u001b[0mto_datetime\u001b[0m\u001b[1;33m(\u001b[0m\u001b[0mtt\u001b[0m\u001b[1;33m)\u001b[0m\u001b[1;33m\u001b[0m\u001b[0m\n",
      "\u001b[0;31mTypeError\u001b[0m: an integer is required (got type Timestamp)"
     ]
    }
   ],
   "source": [
    "X.loc[:,\"voucher_received_time\"] = X[\"voucher_received_time\"].apply(epoch2datetime)\n",
    "test_data.loc[:,\"voucher_received_time\"] = test_data[\"voucher_received_time\"].apply(epoch2datetime)\n",
    "transactions.loc[:,\"order_time\"] = transactions[\"order_time\"].apply(epoch2datetime)\n",
    "voucher_date.loc[:,\"voucher_received_time\"] = voucher_date[\"voucher_received_time\"].apply(epoch2datetime)\n",
    "likes.loc[:,\"ctime\"] = likes[\"ctime\"].apply(epoch2datetime)\n",
    "users.loc[:,\"registration_time\"] =pd.to_datetime(users[\"registration_time\"])\n",
    "users.loc[:,\"birthday\"] =pd.to_datetime(users[\"birthday\"])\n"
   ]
  },
  {
   "cell_type": "markdown",
   "metadata": {},
   "source": [
    "Now we deal with the transaction data. We should consider which kind of the transaction data we could use. Fot classify the *used?*, the order happened after the voucher received date should not be consider as the featurs. We would calculate the number of orders and average price."
   ]
  },
  {
   "cell_type": "code",
   "execution_count": null,
   "metadata": {
    "collapsed": false
   },
   "outputs": [],
   "source": [
    "def extract_transaction_information(row):\n",
    "    userid = userid_t['userid']\n",
    "    t = userid_t[\"voucher_received_time\"]\n",
    "    tmp = transactions.loc[ transactions['userid']==userid]\n",
    "    tmp = tmp.loc[tmp['order_time'] < t]\n",
    "    tmp = tmp[\"total_price\"]\n",
    "    num = tmp.shape[0]\n",
    "    avg = tmp.sum()/num if num>0 else 0\n",
    "    return [num,avg]\n",
    "\n",
    "#extract_transaction_information(X.loc[20020,[\"userid\",\"voucher_received_time\"]])\n",
    "\n",
    "trans_extract = X[[\"userid\",\"voucher_received_time\"]].apply(extract_transaction_information,axis=1)\n"
   ]
  },
  {
   "cell_type": "code",
   "execution_count": null,
   "metadata": {
    "collapsed": false
   },
   "outputs": [],
   "source": [
    "#trans_extract = pd.DataFrame(columns = ['num_orders', 'average_price'])\n",
    "#trans_extract.head()\n",
    "#for i in range(X.shape[0]):\n",
    "#    tmp = extract_transaction_information(X.loc[i,\"userid\"], X.loc[i,\"voucher_received_time\"])\n",
    "#    trans_extract.loc[i] = tmp\n",
    "    \n"
   ]
  },
  {
   "cell_type": "markdown",
   "metadata": {},
   "source": [
    "Last we deal with the **likes** data. We could count how many items that the users like and unlike befor the voucher was received."
   ]
  },
  {
   "cell_type": "code",
   "execution_count": null,
   "metadata": {
    "collapsed": true
   },
   "outputs": [],
   "source": [
    "def extract_likes_information(row):\n",
    "    userid = userid_t['userid']\n",
    "    t = userid_t[\"voucher_received_time\"]\n",
    "    tmp = likes.loc[ likes['userid']==userid]\n",
    "    tmp = tmp.loc[tmp['ctime'] < t]\n",
    "    tmp = tmp[\"status\"]\n",
    "    num_likes = tmp.sum()\n",
    "    num_unlikes = tmp.shape[0] - num_likes\n",
    "    return [num_likes ,num_unlikes]\n",
    "likes_extract = X[[\"userid\",\"voucher_received_time\"]].apply(extract_likes_information,axis=1)"
   ]
  },
  {
   "cell_type": "code",
   "execution_count": 84,
   "metadata": {
    "collapsed": false
   },
   "outputs": [
    {
     "data": {
      "text/html": [
       "<div>\n",
       "<table border=\"1\" class=\"dataframe\">\n",
       "  <thead>\n",
       "    <tr style=\"text-align: right;\">\n",
       "      <th></th>\n",
       "      <th>orderid</th>\n",
       "      <th>userid</th>\n",
       "      <th>shopid</th>\n",
       "      <th>total_price</th>\n",
       "      <th>order_time</th>\n",
       "      <th>voucher_code_used</th>\n",
       "      <th>promotionid_used</th>\n",
       "    </tr>\n",
       "  </thead>\n",
       "  <tbody>\n",
       "    <tr>\n",
       "      <th>0</th>\n",
       "      <td>125381</td>\n",
       "      <td>80157</td>\n",
       "      <td>12978</td>\n",
       "      <td>1100000</td>\n",
       "      <td>2015-07-09 14:28:41</td>\n",
       "      <td>NaN</td>\n",
       "      <td>NaN</td>\n",
       "    </tr>\n",
       "    <tr>\n",
       "      <th>37328</th>\n",
       "      <td>49759879</td>\n",
       "      <td>80157</td>\n",
       "      <td>914698</td>\n",
       "      <td>8600000</td>\n",
       "      <td>2016-09-28 21:29:26</td>\n",
       "      <td>NaN</td>\n",
       "      <td>NaN</td>\n",
       "    </tr>\n",
       "    <tr>\n",
       "      <th>50112</th>\n",
       "      <td>212514634</td>\n",
       "      <td>80157</td>\n",
       "      <td>24941925</td>\n",
       "      <td>3572000</td>\n",
       "      <td>2017-08-22 23:02:03</td>\n",
       "      <td>SHOPEE20RE10W34</td>\n",
       "      <td>194882.0</td>\n",
       "    </tr>\n",
       "    <tr>\n",
       "      <th>452213</th>\n",
       "      <td>25515531</td>\n",
       "      <td>80157</td>\n",
       "      <td>1476563</td>\n",
       "      <td>1390000</td>\n",
       "      <td>2016-06-21 15:29:49</td>\n",
       "      <td>NaN</td>\n",
       "      <td>NaN</td>\n",
       "    </tr>\n",
       "    <tr>\n",
       "      <th>831052</th>\n",
       "      <td>239873</td>\n",
       "      <td>80157</td>\n",
       "      <td>12978</td>\n",
       "      <td>1500000</td>\n",
       "      <td>2015-08-12 21:52:40</td>\n",
       "      <td>NaN</td>\n",
       "      <td>NaN</td>\n",
       "    </tr>\n",
       "    <tr>\n",
       "      <th>885400</th>\n",
       "      <td>49535102</td>\n",
       "      <td>80157</td>\n",
       "      <td>914698</td>\n",
       "      <td>7500000</td>\n",
       "      <td>2016-09-28 04:51:40</td>\n",
       "      <td>NaN</td>\n",
       "      <td>NaN</td>\n",
       "    </tr>\n",
       "    <tr>\n",
       "      <th>1016995</th>\n",
       "      <td>165071050</td>\n",
       "      <td>80157</td>\n",
       "      <td>16176252</td>\n",
       "      <td>3804000</td>\n",
       "      <td>2017-07-02 12:09:06</td>\n",
       "      <td>SHOPEE20RE10W27</td>\n",
       "      <td>137171.0</td>\n",
       "    </tr>\n",
       "    <tr>\n",
       "      <th>1021241</th>\n",
       "      <td>239927</td>\n",
       "      <td>80157</td>\n",
       "      <td>12978</td>\n",
       "      <td>2000000</td>\n",
       "      <td>2015-08-12 22:01:15</td>\n",
       "      <td>NaN</td>\n",
       "      <td>NaN</td>\n",
       "    </tr>\n",
       "    <tr>\n",
       "      <th>1021421</th>\n",
       "      <td>2655570</td>\n",
       "      <td>80157</td>\n",
       "      <td>28646</td>\n",
       "      <td>1900000</td>\n",
       "      <td>2015-12-14 22:23:26</td>\n",
       "      <td>1212WOMEN</td>\n",
       "      <td>7241.0</td>\n",
       "    </tr>\n",
       "    <tr>\n",
       "      <th>1176818</th>\n",
       "      <td>239957</td>\n",
       "      <td>80157</td>\n",
       "      <td>12978</td>\n",
       "      <td>2000000</td>\n",
       "      <td>2015-08-12 22:07:51</td>\n",
       "      <td>NaN</td>\n",
       "      <td>NaN</td>\n",
       "    </tr>\n",
       "    <tr>\n",
       "      <th>1178201</th>\n",
       "      <td>30250508</td>\n",
       "      <td>80157</td>\n",
       "      <td>579427</td>\n",
       "      <td>1000000</td>\n",
       "      <td>2016-07-14 11:47:07</td>\n",
       "      <td>NaN</td>\n",
       "      <td>NaN</td>\n",
       "    </tr>\n",
       "    <tr>\n",
       "      <th>1298270</th>\n",
       "      <td>15914147</td>\n",
       "      <td>80157</td>\n",
       "      <td>2582934</td>\n",
       "      <td>3400000</td>\n",
       "      <td>2016-05-08 19:10:22</td>\n",
       "      <td>LOVEUMOM</td>\n",
       "      <td>18930.0</td>\n",
       "    </tr>\n",
       "    <tr>\n",
       "      <th>1332528</th>\n",
       "      <td>888675</td>\n",
       "      <td>80157</td>\n",
       "      <td>12978</td>\n",
       "      <td>2985000</td>\n",
       "      <td>2015-09-30 21:32:34</td>\n",
       "      <td>FREEZE</td>\n",
       "      <td>1552.0</td>\n",
       "    </tr>\n",
       "    <tr>\n",
       "      <th>1333049</th>\n",
       "      <td>15931742</td>\n",
       "      <td>80157</td>\n",
       "      <td>2582934</td>\n",
       "      <td>3500000</td>\n",
       "      <td>2016-05-08 21:17:50</td>\n",
       "      <td>LOVEUMOM</td>\n",
       "      <td>18930.0</td>\n",
       "    </tr>\n",
       "    <tr>\n",
       "      <th>1644572</th>\n",
       "      <td>571762</td>\n",
       "      <td>80157</td>\n",
       "      <td>12978</td>\n",
       "      <td>3110000</td>\n",
       "      <td>2015-09-11 10:57:42</td>\n",
       "      <td>REV1</td>\n",
       "      <td>1183.0</td>\n",
       "    </tr>\n",
       "    <tr>\n",
       "      <th>1679445</th>\n",
       "      <td>2875766</td>\n",
       "      <td>80157</td>\n",
       "      <td>2161112</td>\n",
       "      <td>8600000</td>\n",
       "      <td>2015-12-21 12:26:18</td>\n",
       "      <td>NaN</td>\n",
       "      <td>NaN</td>\n",
       "    </tr>\n",
       "    <tr>\n",
       "      <th>2126083</th>\n",
       "      <td>206441028</td>\n",
       "      <td>80157</td>\n",
       "      <td>144921</td>\n",
       "      <td>3690000</td>\n",
       "      <td>2017-08-14 12:57:10</td>\n",
       "      <td>SHOPEE20RE10W33</td>\n",
       "      <td>188866.0</td>\n",
       "    </tr>\n",
       "    <tr>\n",
       "      <th>2163050</th>\n",
       "      <td>1678886</td>\n",
       "      <td>80157</td>\n",
       "      <td>12978</td>\n",
       "      <td>5110000</td>\n",
       "      <td>2015-11-11 22:45:07</td>\n",
       "      <td>1111</td>\n",
       "      <td>4962.0</td>\n",
       "    </tr>\n",
       "    <tr>\n",
       "      <th>2180409</th>\n",
       "      <td>7667531</td>\n",
       "      <td>80157</td>\n",
       "      <td>28646</td>\n",
       "      <td>11200000</td>\n",
       "      <td>2016-02-29 15:58:19</td>\n",
       "      <td>NaN</td>\n",
       "      <td>NaN</td>\n",
       "    </tr>\n",
       "    <tr>\n",
       "      <th>2253220</th>\n",
       "      <td>65428950</td>\n",
       "      <td>80157</td>\n",
       "      <td>28646</td>\n",
       "      <td>4944000</td>\n",
       "      <td>2016-11-19 15:11:49</td>\n",
       "      <td>HELPSTAL</td>\n",
       "      <td>39380.0</td>\n",
       "    </tr>\n",
       "    <tr>\n",
       "      <th>2315712</th>\n",
       "      <td>206441029</td>\n",
       "      <td>80157</td>\n",
       "      <td>5340857</td>\n",
       "      <td>2678000</td>\n",
       "      <td>2017-08-14 12:57:10</td>\n",
       "      <td>SHOPEE20RE10W33</td>\n",
       "      <td>188866.0</td>\n",
       "    </tr>\n",
       "    <tr>\n",
       "      <th>2473536</th>\n",
       "      <td>219154</td>\n",
       "      <td>80157</td>\n",
       "      <td>12978</td>\n",
       "      <td>2310000</td>\n",
       "      <td>2015-08-08 02:21:56</td>\n",
       "      <td>NaN</td>\n",
       "      <td>NaN</td>\n",
       "    </tr>\n",
       "    <tr>\n",
       "      <th>2544427</th>\n",
       "      <td>34894398</td>\n",
       "      <td>80157</td>\n",
       "      <td>7648884</td>\n",
       "      <td>1000000</td>\n",
       "      <td>2016-07-31 15:02:42</td>\n",
       "      <td>NaN</td>\n",
       "      <td>NaN</td>\n",
       "    </tr>\n",
       "    <tr>\n",
       "      <th>2646727</th>\n",
       "      <td>2233548</td>\n",
       "      <td>80157</td>\n",
       "      <td>176380</td>\n",
       "      <td>34320000</td>\n",
       "      <td>2015-12-02 17:21:51</td>\n",
       "      <td>NICK20</td>\n",
       "      <td>6388.0</td>\n",
       "    </tr>\n",
       "    <tr>\n",
       "      <th>2666291</th>\n",
       "      <td>47959951</td>\n",
       "      <td>80157</td>\n",
       "      <td>742143</td>\n",
       "      <td>2100000</td>\n",
       "      <td>2016-09-22 02:51:29</td>\n",
       "      <td>NaN</td>\n",
       "      <td>NaN</td>\n",
       "    </tr>\n",
       "    <tr>\n",
       "      <th>3252230</th>\n",
       "      <td>893534</td>\n",
       "      <td>80157</td>\n",
       "      <td>12978</td>\n",
       "      <td>3405000</td>\n",
       "      <td>2015-10-01 00:20:41</td>\n",
       "      <td>FREEZE</td>\n",
       "      <td>1552.0</td>\n",
       "    </tr>\n",
       "    <tr>\n",
       "      <th>3280774</th>\n",
       "      <td>141742990</td>\n",
       "      <td>80157</td>\n",
       "      <td>19540661</td>\n",
       "      <td>3200000</td>\n",
       "      <td>2017-05-21 17:27:38</td>\n",
       "      <td>REV50B45</td>\n",
       "      <td>116717.0</td>\n",
       "    </tr>\n",
       "  </tbody>\n",
       "</table>\n",
       "</div>"
      ],
      "text/plain": [
       "           orderid  userid    shopid  total_price          order_time  \\\n",
       "0           125381   80157     12978      1100000 2015-07-09 14:28:41   \n",
       "37328     49759879   80157    914698      8600000 2016-09-28 21:29:26   \n",
       "50112    212514634   80157  24941925      3572000 2017-08-22 23:02:03   \n",
       "452213    25515531   80157   1476563      1390000 2016-06-21 15:29:49   \n",
       "831052      239873   80157     12978      1500000 2015-08-12 21:52:40   \n",
       "885400    49535102   80157    914698      7500000 2016-09-28 04:51:40   \n",
       "1016995  165071050   80157  16176252      3804000 2017-07-02 12:09:06   \n",
       "1021241     239927   80157     12978      2000000 2015-08-12 22:01:15   \n",
       "1021421    2655570   80157     28646      1900000 2015-12-14 22:23:26   \n",
       "1176818     239957   80157     12978      2000000 2015-08-12 22:07:51   \n",
       "1178201   30250508   80157    579427      1000000 2016-07-14 11:47:07   \n",
       "1298270   15914147   80157   2582934      3400000 2016-05-08 19:10:22   \n",
       "1332528     888675   80157     12978      2985000 2015-09-30 21:32:34   \n",
       "1333049   15931742   80157   2582934      3500000 2016-05-08 21:17:50   \n",
       "1644572     571762   80157     12978      3110000 2015-09-11 10:57:42   \n",
       "1679445    2875766   80157   2161112      8600000 2015-12-21 12:26:18   \n",
       "2126083  206441028   80157    144921      3690000 2017-08-14 12:57:10   \n",
       "2163050    1678886   80157     12978      5110000 2015-11-11 22:45:07   \n",
       "2180409    7667531   80157     28646     11200000 2016-02-29 15:58:19   \n",
       "2253220   65428950   80157     28646      4944000 2016-11-19 15:11:49   \n",
       "2315712  206441029   80157   5340857      2678000 2017-08-14 12:57:10   \n",
       "2473536     219154   80157     12978      2310000 2015-08-08 02:21:56   \n",
       "2544427   34894398   80157   7648884      1000000 2016-07-31 15:02:42   \n",
       "2646727    2233548   80157    176380     34320000 2015-12-02 17:21:51   \n",
       "2666291   47959951   80157    742143      2100000 2016-09-22 02:51:29   \n",
       "3252230     893534   80157     12978      3405000 2015-10-01 00:20:41   \n",
       "3280774  141742990   80157  19540661      3200000 2017-05-21 17:27:38   \n",
       "\n",
       "        voucher_code_used  promotionid_used  \n",
       "0                     NaN               NaN  \n",
       "37328                 NaN               NaN  \n",
       "50112     SHOPEE20RE10W34          194882.0  \n",
       "452213                NaN               NaN  \n",
       "831052                NaN               NaN  \n",
       "885400                NaN               NaN  \n",
       "1016995   SHOPEE20RE10W27          137171.0  \n",
       "1021241               NaN               NaN  \n",
       "1021421         1212WOMEN            7241.0  \n",
       "1176818               NaN               NaN  \n",
       "1178201               NaN               NaN  \n",
       "1298270          LOVEUMOM           18930.0  \n",
       "1332528            FREEZE            1552.0  \n",
       "1333049          LOVEUMOM           18930.0  \n",
       "1644572              REV1            1183.0  \n",
       "1679445               NaN               NaN  \n",
       "2126083   SHOPEE20RE10W33          188866.0  \n",
       "2163050              1111            4962.0  \n",
       "2180409               NaN               NaN  \n",
       "2253220          HELPSTAL           39380.0  \n",
       "2315712   SHOPEE20RE10W33          188866.0  \n",
       "2473536               NaN               NaN  \n",
       "2544427               NaN               NaN  \n",
       "2646727            NICK20            6388.0  \n",
       "2666291               NaN               NaN  \n",
       "3252230            FREEZE            1552.0  \n",
       "3280774          REV50B45          116717.0  "
      ]
     },
     "execution_count": 84,
     "metadata": {},
     "output_type": "execute_result"
    }
   ],
   "source": [
    "transactions['promotionid_used']=transactions['promotionid_used'].apply(int)\n",
    "transactions.loc[ transactions['userid']==80157 ]"
   ]
  },
  {
   "cell_type": "markdown",
   "metadata": {},
   "source": [
    "## Features Construction"
   ]
  },
  {
   "cell_type": "markdown",
   "metadata": {},
   "source": [
    "First we append the information and merge to our origin **X**"
   ]
  },
  {
   "cell_type": "code",
   "execution_count": 10,
   "metadata": {
    "collapsed": false
   },
   "outputs": [],
   "source": [
    "# append user information\n",
    "X = pd.merge(X, users,  how='left', left_on=['userid'],right_on=['userid'])\n",
    "# append voucher information\n",
    "X = pd.merge(X, voucher,  how='left', left_on=['promotionid_received'],right_on=['promotionid_received'])\n",
    "# append the voucher active_x\n",
    "X = pd.merge(X, voucher_date,  how='left', left_on=['userid','promotionid_received','voucher_code_received','voucher_received_time'], right_on = ['userid','promotionid_received','voucher_code_received','voucher_received_time'])\n",
    "del X['voucher_received_date']\n",
    "\n",
    "\n",
    "# append transaction information\n",
    "\n",
    "# append likes information\n",
    "\n"
   ]
  },
  {
   "cell_type": "code",
   "execution_count": null,
   "metadata": {
    "collapsed": true
   },
   "outputs": [],
   "source": []
  },
  {
   "cell_type": "code",
   "execution_count": 26,
   "metadata": {
    "collapsed": false
   },
   "outputs": [
    {
     "data": {
      "text/html": [
       "<div>\n",
       "<table border=\"1\" class=\"dataframe\">\n",
       "  <thead>\n",
       "    <tr style=\"text-align: right;\">\n",
       "      <th></th>\n",
       "      <th>userid</th>\n",
       "      <th>voucher_received_time</th>\n",
       "    </tr>\n",
       "  </thead>\n",
       "  <tbody>\n",
       "    <tr>\n",
       "      <th>0</th>\n",
       "      <td>13014</td>\n",
       "      <td>2017-08-09 00:37:11</td>\n",
       "    </tr>\n",
       "    <tr>\n",
       "      <th>1</th>\n",
       "      <td>13046</td>\n",
       "      <td>2017-04-20 19:26:04</td>\n",
       "    </tr>\n",
       "    <tr>\n",
       "      <th>2</th>\n",
       "      <td>13109</td>\n",
       "      <td>2017-08-09 01:20:38</td>\n",
       "    </tr>\n",
       "    <tr>\n",
       "      <th>3</th>\n",
       "      <td>22837</td>\n",
       "      <td>2017-07-05 18:18:17</td>\n",
       "    </tr>\n",
       "    <tr>\n",
       "      <th>4</th>\n",
       "      <td>28948</td>\n",
       "      <td>2017-03-22 12:08:35</td>\n",
       "    </tr>\n",
       "  </tbody>\n",
       "</table>\n",
       "</div>"
      ],
      "text/plain": [
       "   userid voucher_received_time\n",
       "0   13014   2017-08-09 00:37:11\n",
       "1   13046   2017-04-20 19:26:04\n",
       "2   13109   2017-08-09 01:20:38\n",
       "3   22837   2017-07-05 18:18:17\n",
       "4   28948   2017-03-22 12:08:35"
      ]
     },
     "execution_count": 26,
     "metadata": {},
     "output_type": "execute_result"
    }
   ],
   "source": [
    "X[[\"userid\",\"voucher_received_time\"]].head()"
   ]
  },
  {
   "cell_type": "code",
   "execution_count": 79,
   "metadata": {
    "collapsed": false,
    "scrolled": false
   },
   "outputs": [
    {
     "data": {
      "text/html": [
       "<div>\n",
       "<table border=\"1\" class=\"dataframe\">\n",
       "  <thead>\n",
       "    <tr style=\"text-align: right;\">\n",
       "      <th></th>\n",
       "      <th>userid</th>\n",
       "      <th>promotionid_received</th>\n",
       "      <th>voucher_code_received</th>\n",
       "      <th>voucher_received_time</th>\n",
       "      <th>active_0</th>\n",
       "      <th>active_1</th>\n",
       "      <th>active_2</th>\n",
       "      <th>active_3</th>\n",
       "      <th>active_4</th>\n",
       "      <th>active_5</th>\n",
       "      <th>...</th>\n",
       "      <th>active_29</th>\n",
       "      <th>active_30</th>\n",
       "      <th>discount</th>\n",
       "      <th>max_value</th>\n",
       "      <th>phone_verified</th>\n",
       "      <th>registration_time</th>\n",
       "      <th>is_seller</th>\n",
       "      <th>email_verified</th>\n",
       "      <th>gender</th>\n",
       "      <th>birthday</th>\n",
       "    </tr>\n",
       "  </thead>\n",
       "  <tbody>\n",
       "    <tr>\n",
       "      <th>14074</th>\n",
       "      <td>80157</td>\n",
       "      <td>57394</td>\n",
       "      <td>REV20BA3</td>\n",
       "      <td>2017-02-03 10:58:10</td>\n",
       "      <td>2.0</td>\n",
       "      <td>4.0</td>\n",
       "      <td>2.0</td>\n",
       "      <td>1.0</td>\n",
       "      <td>4.0</td>\n",
       "      <td>3.0</td>\n",
       "      <td>...</td>\n",
       "      <td>3.0</td>\n",
       "      <td>5.0</td>\n",
       "      <td>20</td>\n",
       "      <td>1000000</td>\n",
       "      <td>1</td>\n",
       "      <td>2015-07-02 15:13:45</td>\n",
       "      <td>0</td>\n",
       "      <td>1</td>\n",
       "      <td>2.0</td>\n",
       "      <td>1982-06-03</td>\n",
       "    </tr>\n",
       "    <tr>\n",
       "      <th>24806</th>\n",
       "      <td>80157</td>\n",
       "      <td>188866</td>\n",
       "      <td>SHOPEE20RE10W33</td>\n",
       "      <td>2017-08-09 01:21:34</td>\n",
       "      <td>18.0</td>\n",
       "      <td>2.0</td>\n",
       "      <td>4.0</td>\n",
       "      <td>4.0</td>\n",
       "      <td>2.0</td>\n",
       "      <td>4.0</td>\n",
       "      <td>...</td>\n",
       "      <td>10.0</td>\n",
       "      <td>2.0</td>\n",
       "      <td>20</td>\n",
       "      <td>1000000</td>\n",
       "      <td>1</td>\n",
       "      <td>2015-07-02 15:13:45</td>\n",
       "      <td>0</td>\n",
       "      <td>1</td>\n",
       "      <td>2.0</td>\n",
       "      <td>1982-06-03</td>\n",
       "    </tr>\n",
       "    <tr>\n",
       "      <th>195118</th>\n",
       "      <td>80157</td>\n",
       "      <td>105724</td>\n",
       "      <td>REV50B43</td>\n",
       "      <td>2017-04-20 19:05:18</td>\n",
       "      <td>6.0</td>\n",
       "      <td>6.0</td>\n",
       "      <td>14.0</td>\n",
       "      <td>8.0</td>\n",
       "      <td>4.0</td>\n",
       "      <td>2.0</td>\n",
       "      <td>...</td>\n",
       "      <td>3.0</td>\n",
       "      <td>6.0</td>\n",
       "      <td>50</td>\n",
       "      <td>1500000</td>\n",
       "      <td>1</td>\n",
       "      <td>2015-07-02 15:13:45</td>\n",
       "      <td>0</td>\n",
       "      <td>1</td>\n",
       "      <td>2.0</td>\n",
       "      <td>1982-06-03</td>\n",
       "    </tr>\n",
       "    <tr>\n",
       "      <th>451477</th>\n",
       "      <td>80157</td>\n",
       "      <td>58115</td>\n",
       "      <td>REV20BA4</td>\n",
       "      <td>2017-02-16 16:01:18</td>\n",
       "      <td>6.0</td>\n",
       "      <td>5.0</td>\n",
       "      <td>11.0</td>\n",
       "      <td>10.0</td>\n",
       "      <td>15.0</td>\n",
       "      <td>4.0</td>\n",
       "      <td>...</td>\n",
       "      <td>2.0</td>\n",
       "      <td>4.0</td>\n",
       "      <td>20</td>\n",
       "      <td>1000000</td>\n",
       "      <td>1</td>\n",
       "      <td>2015-07-02 15:13:45</td>\n",
       "      <td>0</td>\n",
       "      <td>1</td>\n",
       "      <td>2.0</td>\n",
       "      <td>1982-06-03</td>\n",
       "    </tr>\n",
       "    <tr>\n",
       "      <th>504450</th>\n",
       "      <td>80157</td>\n",
       "      <td>154106</td>\n",
       "      <td>SHOPEE20RE10W28</td>\n",
       "      <td>2017-07-05 19:15:09</td>\n",
       "      <td>8.0</td>\n",
       "      <td>5.0</td>\n",
       "      <td>10.0</td>\n",
       "      <td>24.0</td>\n",
       "      <td>18.0</td>\n",
       "      <td>6.0</td>\n",
       "      <td>...</td>\n",
       "      <td>2.0</td>\n",
       "      <td>5.0</td>\n",
       "      <td>20</td>\n",
       "      <td>1000000</td>\n",
       "      <td>1</td>\n",
       "      <td>2015-07-02 15:13:45</td>\n",
       "      <td>0</td>\n",
       "      <td>1</td>\n",
       "      <td>2.0</td>\n",
       "      <td>1982-06-03</td>\n",
       "    </tr>\n",
       "    <tr>\n",
       "      <th>507988</th>\n",
       "      <td>80157</td>\n",
       "      <td>137171</td>\n",
       "      <td>SHOPEE20RE10W27</td>\n",
       "      <td>2017-06-30 14:58:36</td>\n",
       "      <td>6.0</td>\n",
       "      <td>NaN</td>\n",
       "      <td>NaN</td>\n",
       "      <td>2.0</td>\n",
       "      <td>NaN</td>\n",
       "      <td>NaN</td>\n",
       "      <td>...</td>\n",
       "      <td>6.0</td>\n",
       "      <td>NaN</td>\n",
       "      <td>20</td>\n",
       "      <td>1000000</td>\n",
       "      <td>1</td>\n",
       "      <td>2015-07-02 15:13:45</td>\n",
       "      <td>0</td>\n",
       "      <td>1</td>\n",
       "      <td>2.0</td>\n",
       "      <td>1982-06-03</td>\n",
       "    </tr>\n",
       "    <tr>\n",
       "      <th>525840</th>\n",
       "      <td>80157</td>\n",
       "      <td>100120</td>\n",
       "      <td>REV50AB6</td>\n",
       "      <td>2017-02-24 18:02:38</td>\n",
       "      <td>1.0</td>\n",
       "      <td>1.0</td>\n",
       "      <td>2.0</td>\n",
       "      <td>6.0</td>\n",
       "      <td>6.0</td>\n",
       "      <td>3.0</td>\n",
       "      <td>...</td>\n",
       "      <td>5.0</td>\n",
       "      <td>7.0</td>\n",
       "      <td>50</td>\n",
       "      <td>1500000</td>\n",
       "      <td>1</td>\n",
       "      <td>2015-07-02 15:13:45</td>\n",
       "      <td>0</td>\n",
       "      <td>1</td>\n",
       "      <td>2.0</td>\n",
       "      <td>1982-06-03</td>\n",
       "    </tr>\n",
       "    <tr>\n",
       "      <th>593347</th>\n",
       "      <td>80157</td>\n",
       "      <td>116717</td>\n",
       "      <td>REV50B45</td>\n",
       "      <td>2017-05-15 12:44:51</td>\n",
       "      <td>12.0</td>\n",
       "      <td>4.0</td>\n",
       "      <td>6.0</td>\n",
       "      <td>6.0</td>\n",
       "      <td>6.0</td>\n",
       "      <td>6.0</td>\n",
       "      <td>...</td>\n",
       "      <td>4.0</td>\n",
       "      <td>2.0</td>\n",
       "      <td>50</td>\n",
       "      <td>1500000</td>\n",
       "      <td>1</td>\n",
       "      <td>2015-07-02 15:13:45</td>\n",
       "      <td>0</td>\n",
       "      <td>1</td>\n",
       "      <td>2.0</td>\n",
       "      <td>1982-06-03</td>\n",
       "    </tr>\n",
       "    <tr>\n",
       "      <th>635893</th>\n",
       "      <td>80157</td>\n",
       "      <td>105021</td>\n",
       "      <td>REV50B41</td>\n",
       "      <td>2017-04-11 20:32:15</td>\n",
       "      <td>2.0</td>\n",
       "      <td>2.0</td>\n",
       "      <td>2.0</td>\n",
       "      <td>2.0</td>\n",
       "      <td>6.0</td>\n",
       "      <td>2.0</td>\n",
       "      <td>...</td>\n",
       "      <td>2.0</td>\n",
       "      <td>NaN</td>\n",
       "      <td>50</td>\n",
       "      <td>1500000</td>\n",
       "      <td>1</td>\n",
       "      <td>2015-07-02 15:13:45</td>\n",
       "      <td>0</td>\n",
       "      <td>1</td>\n",
       "      <td>2.0</td>\n",
       "      <td>1982-06-03</td>\n",
       "    </tr>\n",
       "  </tbody>\n",
       "</table>\n",
       "<p>9 rows × 43 columns</p>\n",
       "</div>"
      ],
      "text/plain": [
       "        userid  promotionid_received voucher_code_received  \\\n",
       "14074    80157                 57394              REV20BA3   \n",
       "24806    80157                188866       SHOPEE20RE10W33   \n",
       "195118   80157                105724              REV50B43   \n",
       "451477   80157                 58115              REV20BA4   \n",
       "504450   80157                154106       SHOPEE20RE10W28   \n",
       "507988   80157                137171       SHOPEE20RE10W27   \n",
       "525840   80157                100120              REV50AB6   \n",
       "593347   80157                116717              REV50B45   \n",
       "635893   80157                105021              REV50B41   \n",
       "\n",
       "       voucher_received_time  active_0  active_1  active_2  active_3  \\\n",
       "14074    2017-02-03 10:58:10       2.0       4.0       2.0       1.0   \n",
       "24806    2017-08-09 01:21:34      18.0       2.0       4.0       4.0   \n",
       "195118   2017-04-20 19:05:18       6.0       6.0      14.0       8.0   \n",
       "451477   2017-02-16 16:01:18       6.0       5.0      11.0      10.0   \n",
       "504450   2017-07-05 19:15:09       8.0       5.0      10.0      24.0   \n",
       "507988   2017-06-30 14:58:36       6.0       NaN       NaN       2.0   \n",
       "525840   2017-02-24 18:02:38       1.0       1.0       2.0       6.0   \n",
       "593347   2017-05-15 12:44:51      12.0       4.0       6.0       6.0   \n",
       "635893   2017-04-11 20:32:15       2.0       2.0       2.0       2.0   \n",
       "\n",
       "        active_4  active_5    ...      active_29  active_30  discount  \\\n",
       "14074        4.0       3.0    ...            3.0        5.0        20   \n",
       "24806        2.0       4.0    ...           10.0        2.0        20   \n",
       "195118       4.0       2.0    ...            3.0        6.0        50   \n",
       "451477      15.0       4.0    ...            2.0        4.0        20   \n",
       "504450      18.0       6.0    ...            2.0        5.0        20   \n",
       "507988       NaN       NaN    ...            6.0        NaN        20   \n",
       "525840       6.0       3.0    ...            5.0        7.0        50   \n",
       "593347       6.0       6.0    ...            4.0        2.0        50   \n",
       "635893       6.0       2.0    ...            2.0        NaN        50   \n",
       "\n",
       "        max_value  phone_verified   registration_time  is_seller  \\\n",
       "14074     1000000               1 2015-07-02 15:13:45          0   \n",
       "24806     1000000               1 2015-07-02 15:13:45          0   \n",
       "195118    1500000               1 2015-07-02 15:13:45          0   \n",
       "451477    1000000               1 2015-07-02 15:13:45          0   \n",
       "504450    1000000               1 2015-07-02 15:13:45          0   \n",
       "507988    1000000               1 2015-07-02 15:13:45          0   \n",
       "525840    1500000               1 2015-07-02 15:13:45          0   \n",
       "593347    1500000               1 2015-07-02 15:13:45          0   \n",
       "635893    1500000               1 2015-07-02 15:13:45          0   \n",
       "\n",
       "        email_verified  gender   birthday  \n",
       "14074                1     2.0 1982-06-03  \n",
       "24806                1     2.0 1982-06-03  \n",
       "195118               1     2.0 1982-06-03  \n",
       "451477               1     2.0 1982-06-03  \n",
       "504450               1     2.0 1982-06-03  \n",
       "507988               1     2.0 1982-06-03  \n",
       "525840               1     2.0 1982-06-03  \n",
       "593347               1     2.0 1982-06-03  \n",
       "635893               1     2.0 1982-06-03  \n",
       "\n",
       "[9 rows x 43 columns]"
      ]
     },
     "execution_count": 79,
     "metadata": {},
     "output_type": "execute_result"
    }
   ],
   "source": [
    "X.loc[ X['userid']==80157 ]"
   ]
  }
 ],
 "metadata": {
  "anaconda-cloud": {},
  "kernelspec": {
   "display_name": "Python [default]",
   "language": "python",
   "name": "python3"
  },
  "language_info": {
   "codemirror_mode": {
    "name": "ipython",
    "version": 3
   },
   "file_extension": ".py",
   "mimetype": "text/x-python",
   "name": "python",
   "nbconvert_exporter": "python",
   "pygments_lexer": "ipython3",
   "version": "3.5.2"
  }
 },
 "nbformat": 4,
 "nbformat_minor": 1
}
